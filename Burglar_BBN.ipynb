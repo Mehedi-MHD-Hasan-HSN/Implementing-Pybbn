{
  "nbformat": 4,
  "nbformat_minor": 0,
  "metadata": {
    "colab": {
      "provenance": []
    },
    "kernelspec": {
      "name": "python3",
      "display_name": "Python 3"
    },
    "language_info": {
      "name": "python"
    }
  },
  "cells": [
    {
      "cell_type": "code",
      "execution_count": null,
      "metadata": {
        "colab": {
          "base_uri": "https://localhost:8080/"
        },
        "id": "T6rOMpxGpKxP",
        "outputId": "17ac4f38-7279-47fc-93fb-d3618e764137"
      },
      "outputs": [
        {
          "output_type": "stream",
          "name": "stdout",
          "text": [
            "Looking in indexes: https://pypi.org/simple, https://us-python.pkg.dev/colab-wheels/public/simple/\n",
            "Requirement already satisfied: pybbn in /usr/local/lib/python3.8/dist-packages (3.2.1)\n",
            "Requirement already satisfied: networkx in /usr/local/lib/python3.8/dist-packages (from pybbn) (2.8.8)\n",
            "Requirement already satisfied: numpy in /usr/local/lib/python3.8/dist-packages (from pybbn) (1.21.6)\n",
            "Requirement already satisfied: pandas in /usr/local/lib/python3.8/dist-packages (from pybbn) (1.3.5)\n",
            "Requirement already satisfied: scipy in /usr/local/lib/python3.8/dist-packages (from pybbn) (1.7.3)\n",
            "Requirement already satisfied: python-dateutil>=2.7.3 in /usr/local/lib/python3.8/dist-packages (from pandas->pybbn) (2.8.2)\n",
            "Requirement already satisfied: pytz>=2017.3 in /usr/local/lib/python3.8/dist-packages (from pandas->pybbn) (2022.7)\n",
            "Requirement already satisfied: six>=1.5 in /usr/local/lib/python3.8/dist-packages (from python-dateutil>=2.7.3->pandas->pybbn) (1.15.0)\n"
          ]
        }
      ],
      "source": [
        "pip install pybbn"
      ]
    },
    {
      "cell_type": "code",
      "source": [
        "from pybbn.graph.dag import Bbn\n",
        "from pybbn.graph.edge import Edge, EdgeType\n",
        "from pybbn.graph.jointree import EvidenceBuilder\n",
        "from pybbn.graph.node import BbnNode\n",
        "from pybbn.graph.variable import Variable\n",
        "from pybbn.pptc.inferencecontroller import InferenceController"
      ],
      "metadata": {
        "id": "7JJ9BIGIpzv8"
      },
      "execution_count": null,
      "outputs": []
    },
    {
      "cell_type": "code",
      "source": [
        "pB = .001 \n",
        "pB_prime = 1-pB\n",
        "\n",
        "pE = 0.002 \n",
        "pE_prime = 1-pE \n",
        "\n",
        "pA_for_Bt_Et = .95 \n",
        "pA_for_Bt_Et_prime = 1-pA_for_Bt_Et \n",
        "\n",
        "pA_for_Bt_Ef = .94 \n",
        "pA_for_Bt_Ef_prime = 1-pA_for_Bt_Ef\n",
        "\n",
        "pA_for_Bf_Et = .29\n",
        "pA_for_Bf_Et_prime = 1-pA_for_Bf_Et \n",
        "\n",
        "pA_for_Bf_Ef = .001 \n",
        "pA_for_Bf_Ef_prime = 1-pA_for_Bf_Ef \n",
        "\n",
        "pJ_for_At = .90 \n",
        "pJ_for_At_prime = 1-pJ_for_At \n",
        "\n",
        "pJ_for_Af = 0.05 \n",
        "pJ_for_Af_prime = 1-pJ_for_Af \n",
        "\n",
        "pM_for_At = .70 \n",
        "pM_for_At_prime = 1-pM_for_At \n",
        "\n",
        "pM_for_Af = 0.01 \n",
        "pM_for_Af_prime = 1-pM_for_Af  "
      ],
      "metadata": {
        "id": "jceVrG-Fqn5E"
      },
      "execution_count": null,
      "outputs": []
    },
    {
      "cell_type": "code",
      "source": [
        "Burglary = BbnNode(Variable(0, 'Burglary', ['True', 'False']), [pB, pB_prime])\n",
        "Earthquake = BbnNode(Variable(1, 'Earthqauake', ['True', 'False']), [pE, pE_prime])\n",
        "Alarm = BbnNode(Variable(2, 'Alarm', ['True', 'False']), [pA_for_Bt_Et, pA_for_Bt_Et_prime, pA_for_Bt_Ef, pA_for_Bt_Ef_prime, pA_for_Bf_Et, pA_for_Bf_Et_prime, pA_for_Bf_Ef, pA_for_Bf_Ef_prime])\n",
        "Johncalls = BbnNode(Variable(3, 'Johncalls', ['True', 'False']), [pJ_for_At, pJ_for_At_prime, pJ_for_Af, pJ_for_Af_prime])\n",
        "Marycalls = BbnNode(Variable(4, 'Marycalls', ['True', 'False']), [pM_for_At, pM_for_At_prime, pM_for_Af, pM_for_Af_prime])"
      ],
      "metadata": {
        "id": "eYRx9CCcp1ej"
      },
      "execution_count": null,
      "outputs": []
    },
    {
      "cell_type": "code",
      "source": [
        "bbn = Bbn() \\\n",
        "    .add_node(Burglary) \\\n",
        "    .add_node(Earthquake) \\\n",
        "    .add_node(Alarm) \\\n",
        "    .add_node(Johncalls) \\\n",
        "    .add_node(Marycalls) \\\n",
        "    .add_edge(Edge(Burglary, Alarm, EdgeType.DIRECTED)) \\\n",
        "    .add_edge(Edge(Earthquake, Alarm, EdgeType.DIRECTED)) \\\n",
        "    .add_edge(Edge(Alarm, Johncalls, EdgeType.DIRECTED)) \\\n",
        "    .add_edge(Edge(Alarm, Marycalls, EdgeType.DIRECTED))"
      ],
      "metadata": {
        "id": "L_xsrqP7yHKK"
      },
      "execution_count": null,
      "outputs": []
    },
    {
      "cell_type": "code",
      "source": [
        "pip install networkx"
      ],
      "metadata": {
        "colab": {
          "base_uri": "https://localhost:8080/"
        },
        "id": "F4V0Q7Bez0ZJ",
        "outputId": "d811876a-28ff-48a8-db04-5bd83619ddd1"
      },
      "execution_count": null,
      "outputs": [
        {
          "output_type": "stream",
          "name": "stdout",
          "text": [
            "Looking in indexes: https://pypi.org/simple, https://us-python.pkg.dev/colab-wheels/public/simple/\n",
            "Requirement already satisfied: networkx in /usr/local/lib/python3.8/dist-packages (2.8.8)\n"
          ]
        }
      ]
    },
    {
      "cell_type": "code",
      "source": [
        "%matplotlib inline\n",
        "from pybbn.generator.bbngenerator import convert_for_drawing\n",
        "import matplotlib.pyplot as plt\n",
        "import networkx as nx\n",
        "import warnings\n",
        "\n",
        "with warnings.catch_warnings():\n",
        "    warnings.simplefilter('ignore')\n",
        "    \n",
        "    graph = convert_for_drawing(bbn)\n",
        "    pos = {0: (-1, 2), 1: (1, 2), 2: (0, 1), 3: (-1, 0.5), 4: (1, 0.5)}  \n",
        "    plt.figure(figsize=(20, 10))\n",
        "    plt.subplot(121) \n",
        "    labels = dict([(k, node.variable.name) for k, node in bbn.nodes.items()])\n",
        "    nx.draw(graph, pos=pos, with_labels=True, labels=labels)\n",
        "    plt.title('BBN DAG')"
      ],
      "metadata": {
        "colab": {
          "base_uri": "https://localhost:8080/",
          "height": 591
        },
        "id": "L_pEB5_RzeRg",
        "outputId": "c4a3594d-6ac6-40eb-d000-54dfe261ebea"
      },
      "execution_count": null,
      "outputs": [
        {
          "output_type": "display_data",
          "data": {
            "text/plain": [
              "<Figure size 1440x720 with 1 Axes>"
            ],
            "image/png": "[encoded data removed]"
          },
          "metadata": {}
        }
      ]
    },
    {
      "cell_type": "code",
      "source": [
        "join_tree = InferenceController.apply(bbn)\n",
        "for node in join_tree.get_bbn_nodes():\n",
        "    potential = join_tree.get_bbn_potential(node)\n",
        "    print(node)\n",
        "    print(potential)\n",
        "    print('--------------------->')"
      ],
      "metadata": {
        "colab": {
          "base_uri": "https://localhost:8080/"
        },
        "id": "krWg3uJ-0wkt",
        "outputId": "6a692d72-29f8-4dce-bc23-b696a7d1b93e"
      },
      "execution_count": null,
      "outputs": [
        {
          "output_type": "stream",
          "name": "stdout",
          "text": [
            "2|Alarm|True,False\n",
            "2=True|0.00252\n",
            "2=False|0.99748\n",
            "--------------------->\n",
            "3|Johncalls|True,False\n",
            "3=True|0.05214\n",
            "3=False|0.94786\n",
            "--------------------->\n",
            "4|Marycalls|True,False\n",
            "4=True|0.01174\n",
            "4=False|0.98826\n",
            "--------------------->\n",
            "1|Earthqauake|True,False\n",
            "1=True|0.00200\n",
            "1=False|0.99800\n",
            "--------------------->\n",
            "0|Burglary|True,False\n",
            "0=True|0.00100\n",
            "0=False|0.99900\n",
            "--------------------->\n"
          ]
        }
      ]
    },
    {
      "cell_type": "code",
      "source": [],
      "metadata": {
        "id": "9mVrqAim66y_"
      },
      "execution_count": null,
      "outputs": []
    }
  ]
}